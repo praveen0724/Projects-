{
  "nbformat": 4,
  "nbformat_minor": 0,
  "metadata": {
    "colab": {
      "name": "paragraph.ipynb",
      "provenance": []
    },
    "kernelspec": {
      "name": "python3",
      "display_name": "Python 3"
    },
    "language_info": {
      "name": "python"
    }
  },
  "cells": [
    {
      "cell_type": "code",
      "execution_count": null,
      "metadata": {
        "id": "2nTAQR8x_c8P"
      },
      "outputs": [],
      "source": [
        "paragraph='''Ronaldo was born on February 5, 1985 and was named Ronaldo after the then US President Ronald Reagan.\n",
        "He grew up in a poor family and had to share a bedroom and bathroom with his older brother and two older sisters.\n",
        "He started playing soccer at an early age when he was just eight. He was always running away from doing homework.\n",
        "He was nicknamed ‘cry baby’ because he felt bad when he used to pass the ball to his friends and they couldn’t score.\n",
        "A very popular student in school, Ronaldo was expelled at the age of 14 for throwing a chair at his teacher who Ronaldo thought disrespected him. He then turned his entire attention to soccer and went on to become the world’s greatest soccer player.\n",
        "But at the age of 15 Ronaldo was diagnosed with ‘racing heart’. His condition was serious and would have made him let go of football. But a surgery saved him and he went back for his training.'''"
      ]
    },
    {
      "cell_type": "code",
      "source": [
        "  #STEPS\n",
        "\n",
        " #convert to lower case\n",
        " #remove numbers&special characters\n",
        " #split works\n",
        " #get the root of the word- stemming\n",
        " #stop words remove\n",
        " #built corpus"
      ],
      "metadata": {
        "id": "shHYDnsMOLmO"
      },
      "execution_count": null,
      "outputs": []
    },
    {
      "cell_type": "code",
      "source": [
        "paragraph.lower()"
      ],
      "metadata": {
        "colab": {
          "base_uri": "https://localhost:8080/",
          "height": 226
        },
        "id": "SIx89AWMAloq",
        "outputId": "8581fe08-b21b-4018-9212-5a34046c5d2a"
      },
      "execution_count": null,
      "outputs": [
        {
          "output_type": "execute_result",
          "data": {
            "text/plain": [
              "'ronaldo was born on february 5, 1985 and was named ronaldo after the then us president ronald reagan.\\nhe grew up in a poor family and had to share a bedroom and bathroom with his older brother and two older sisters.\\nhe started playing soccer at an early age when he was just eight. he was always running away from doing homework.\\nhe was nicknamed ‘cry baby’ because he felt bad when he used to pass the ball to his friends and they couldn’t score.\\na very popular student in school, ronaldo was expelled at the age of 14 for throwing a chair at his teacher who ronaldo thought disrespected him. he then turned his entire attention to soccer and went on to become the world’s greatest soccer player.\\nbut at the age of 15 ronaldo was diagnosed with ‘racing heart’. his condition was serious and would have made him let go of football. but a surgery saved him and he went back for his training.'"
            ],
            "application/vnd.google.colaboratory.intrinsic+json": {
              "type": "string"
            }
          },
          "metadata": {},
          "execution_count": 89
        }
      ]
    },
    {
      "cell_type": "code",
      "source": [
        "len(paragraph)"
      ],
      "metadata": {
        "colab": {
          "base_uri": "https://localhost:8080/"
        },
        "id": "lEvBrVoXMEA3",
        "outputId": "a4969179-7509-4764-a032-26b1811be6e0"
      },
      "execution_count": null,
      "outputs": [
        {
          "output_type": "execute_result",
          "data": {
            "text/plain": [
              "890"
            ]
          },
          "metadata": {},
          "execution_count": 90
        }
      ]
    },
    {
      "cell_type": "code",
      "source": [
        "pip install nltk"
      ],
      "metadata": {
        "colab": {
          "base_uri": "https://localhost:8080/"
        },
        "id": "qvnfw4c2OBbO",
        "outputId": "d03a58c6-c109-41ae-f82d-d7cf4bb520a7"
      },
      "execution_count": null,
      "outputs": [
        {
          "output_type": "stream",
          "name": "stdout",
          "text": [
            "Requirement already satisfied: nltk in /usr/local/lib/python3.7/dist-packages (3.2.5)\n",
            "Requirement already satisfied: six in /usr/local/lib/python3.7/dist-packages (from nltk) (1.15.0)\n"
          ]
        }
      ]
    },
    {
      "cell_type": "code",
      "source": [
        "import nltk"
      ],
      "metadata": {
        "id": "Bc1QjLyxfsD4"
      },
      "execution_count": null,
      "outputs": []
    },
    {
      "cell_type": "code",
      "source": [
        "nltk.download('punkt')"
      ],
      "metadata": {
        "colab": {
          "base_uri": "https://localhost:8080/"
        },
        "id": "smcoLu7Gfu1N",
        "outputId": "fc2bff38-1c1c-4ea2-a962-dec9921088c7"
      },
      "execution_count": null,
      "outputs": [
        {
          "output_type": "stream",
          "name": "stdout",
          "text": [
            "[nltk_data] Downloading package punkt to /root/nltk_data...\n",
            "[nltk_data]   Package punkt is already up-to-date!\n"
          ]
        },
        {
          "output_type": "execute_result",
          "data": {
            "text/plain": [
              "True"
            ]
          },
          "metadata": {},
          "execution_count": 93
        }
      ]
    },
    {
      "cell_type": "code",
      "source": [
        "new_paragraph = ''.join(x for x in paragraph if x.isalnum())\n",
        "print(new_paragraph)"
      ],
      "metadata": {
        "colab": {
          "base_uri": "https://localhost:8080/"
        },
        "id": "8WkfnPIsfv7F",
        "outputId": "8bc0203a-4e83-482e-b398-44c92ff0883e"
      },
      "execution_count": null,
      "outputs": [
        {
          "output_type": "stream",
          "name": "stdout",
          "text": [
            "RonaldowasbornonFebruary51985andwasnamedRonaldoafterthethenUSPresidentRonaldReaganHegrewupinapoorfamilyandhadtoshareabedroomandbathroomwithhisolderbrotherandtwooldersistersHestartedplayingsocceratanearlyagewhenhewasjusteightHewasalwaysrunningawayfromdoinghomeworkHewasnicknamedcrybabybecausehefeltbadwhenheusedtopasstheballtohisfriendsandtheycouldntscoreAverypopularstudentinschoolRonaldowasexpelledattheageof14forthrowingachairathisteacherwhoRonaldothoughtdisrespectedhimHethenturnedhisentireattentiontosoccerandwentontobecometheworldsgreatestsoccerplayerButattheageof15RonaldowasdiagnosedwithracingheartHisconditionwasseriousandwouldhavemadehimletgooffootballButasurgerysavedhimandhewentbackforhistraining\n"
          ]
        }
      ]
    },
    {
      "cell_type": "code",
      "source": [
        "paragraph"
      ],
      "metadata": {
        "colab": {
          "base_uri": "https://localhost:8080/",
          "height": 226
        },
        "id": "rpgvCTNmf65Y",
        "outputId": "cfbffe00-8d19-4881-e932-e5de727c74d1"
      },
      "execution_count": null,
      "outputs": [
        {
          "output_type": "execute_result",
          "data": {
            "text/plain": [
              "'Ronaldo was born on February 5, 1985 and was named Ronaldo after the then US President Ronald Reagan.\\nHe grew up in a poor family and had to share a bedroom and bathroom with his older brother and two older sisters.\\nHe started playing soccer at an early age when he was just eight. He was always running away from doing homework.\\nHe was nicknamed ‘cry baby’ because he felt bad when he used to pass the ball to his friends and they couldn’t score.\\nA very popular student in school, Ronaldo was expelled at the age of 14 for throwing a chair at his teacher who Ronaldo thought disrespected him. He then turned his entire attention to soccer and went on to become the world’s greatest soccer player.\\nBut at the age of 15 Ronaldo was diagnosed with ‘racing heart’. His condition was serious and would have made him let go of football. But a surgery saved him and he went back for his training.'"
            ],
            "application/vnd.google.colaboratory.intrinsic+json": {
              "type": "string"
            }
          },
          "metadata": {},
          "execution_count": 95
        }
      ]
    },
    {
      "cell_type": "code",
      "source": [
        "n=paragraph.split()"
      ],
      "metadata": {
        "id": "hqzin4Tif0Kq"
      },
      "execution_count": null,
      "outputs": []
    },
    {
      "cell_type": "code",
      "source": [
        "print(n)"
      ],
      "metadata": {
        "colab": {
          "base_uri": "https://localhost:8080/"
        },
        "id": "vP0aQKhOf-Uc",
        "outputId": "85f50d15-27da-4e79-9817-4526c16f3d49"
      },
      "execution_count": null,
      "outputs": [
        {
          "output_type": "stream",
          "name": "stdout",
          "text": [
            "['Ronaldo', 'was', 'born', 'on', 'February', '5,', '1985', 'and', 'was', 'named', 'Ronaldo', 'after', 'the', 'then', 'US', 'President', 'Ronald', 'Reagan.', 'He', 'grew', 'up', 'in', 'a', 'poor', 'family', 'and', 'had', 'to', 'share', 'a', 'bedroom', 'and', 'bathroom', 'with', 'his', 'older', 'brother', 'and', 'two', 'older', 'sisters.', 'He', 'started', 'playing', 'soccer', 'at', 'an', 'early', 'age', 'when', 'he', 'was', 'just', 'eight.', 'He', 'was', 'always', 'running', 'away', 'from', 'doing', 'homework.', 'He', 'was', 'nicknamed', '‘cry', 'baby’', 'because', 'he', 'felt', 'bad', 'when', 'he', 'used', 'to', 'pass', 'the', 'ball', 'to', 'his', 'friends', 'and', 'they', 'couldn’t', 'score.', 'A', 'very', 'popular', 'student', 'in', 'school,', 'Ronaldo', 'was', 'expelled', 'at', 'the', 'age', 'of', '14', 'for', 'throwing', 'a', 'chair', 'at', 'his', 'teacher', 'who', 'Ronaldo', 'thought', 'disrespected', 'him.', 'He', 'then', 'turned', 'his', 'entire', 'attention', 'to', 'soccer', 'and', 'went', 'on', 'to', 'become', 'the', 'world’s', 'greatest', 'soccer', 'player.', 'But', 'at', 'the', 'age', 'of', '15', 'Ronaldo', 'was', 'diagnosed', 'with', '‘racing', 'heart’.', 'His', 'condition', 'was', 'serious', 'and', 'would', 'have', 'made', 'him', 'let', 'go', 'of', 'football.', 'But', 'a', 'surgery', 'saved', 'him', 'and', 'he', 'went', 'back', 'for', 'his', 'training.']\n"
          ]
        }
      ]
    },
    {
      "cell_type": "code",
      "source": [
        "import nltk"
      ],
      "metadata": {
        "id": "b_vx7dI6gEy7"
      },
      "execution_count": null,
      "outputs": []
    },
    {
      "cell_type": "code",
      "source": [
        "from nltk.tokenize import word_tokenize"
      ],
      "metadata": {
        "id": "OfpiqSnmgGAv"
      },
      "execution_count": null,
      "outputs": []
    },
    {
      "cell_type": "code",
      "source": [
        "token = word_tokenize(paragraph)"
      ],
      "metadata": {
        "id": "ddRK6TetgIb0"
      },
      "execution_count": null,
      "outputs": []
    },
    {
      "cell_type": "code",
      "source": [
        "token"
      ],
      "metadata": {
        "colab": {
          "base_uri": "https://localhost:8080/"
        },
        "id": "NghnjdL0gMBY",
        "outputId": "56bd8505-0dbf-4085-f541-09ee81c303dc"
      },
      "execution_count": null,
      "outputs": [
        {
          "output_type": "execute_result",
          "data": {
            "text/plain": [
              "['Ronaldo',\n",
              " 'was',\n",
              " 'born',\n",
              " 'on',\n",
              " 'February',\n",
              " '5',\n",
              " ',',\n",
              " '1985',\n",
              " 'and',\n",
              " 'was',\n",
              " 'named',\n",
              " 'Ronaldo',\n",
              " 'after',\n",
              " 'the',\n",
              " 'then',\n",
              " 'US',\n",
              " 'President',\n",
              " 'Ronald',\n",
              " 'Reagan',\n",
              " '.',\n",
              " 'He',\n",
              " 'grew',\n",
              " 'up',\n",
              " 'in',\n",
              " 'a',\n",
              " 'poor',\n",
              " 'family',\n",
              " 'and',\n",
              " 'had',\n",
              " 'to',\n",
              " 'share',\n",
              " 'a',\n",
              " 'bedroom',\n",
              " 'and',\n",
              " 'bathroom',\n",
              " 'with',\n",
              " 'his',\n",
              " 'older',\n",
              " 'brother',\n",
              " 'and',\n",
              " 'two',\n",
              " 'older',\n",
              " 'sisters',\n",
              " '.',\n",
              " 'He',\n",
              " 'started',\n",
              " 'playing',\n",
              " 'soccer',\n",
              " 'at',\n",
              " 'an',\n",
              " 'early',\n",
              " 'age',\n",
              " 'when',\n",
              " 'he',\n",
              " 'was',\n",
              " 'just',\n",
              " 'eight',\n",
              " '.',\n",
              " 'He',\n",
              " 'was',\n",
              " 'always',\n",
              " 'running',\n",
              " 'away',\n",
              " 'from',\n",
              " 'doing',\n",
              " 'homework',\n",
              " '.',\n",
              " 'He',\n",
              " 'was',\n",
              " 'nicknamed',\n",
              " '‘',\n",
              " 'cry',\n",
              " 'baby',\n",
              " '’',\n",
              " 'because',\n",
              " 'he',\n",
              " 'felt',\n",
              " 'bad',\n",
              " 'when',\n",
              " 'he',\n",
              " 'used',\n",
              " 'to',\n",
              " 'pass',\n",
              " 'the',\n",
              " 'ball',\n",
              " 'to',\n",
              " 'his',\n",
              " 'friends',\n",
              " 'and',\n",
              " 'they',\n",
              " 'couldn',\n",
              " '’',\n",
              " 't',\n",
              " 'score',\n",
              " '.',\n",
              " 'A',\n",
              " 'very',\n",
              " 'popular',\n",
              " 'student',\n",
              " 'in',\n",
              " 'school',\n",
              " ',',\n",
              " 'Ronaldo',\n",
              " 'was',\n",
              " 'expelled',\n",
              " 'at',\n",
              " 'the',\n",
              " 'age',\n",
              " 'of',\n",
              " '14',\n",
              " 'for',\n",
              " 'throwing',\n",
              " 'a',\n",
              " 'chair',\n",
              " 'at',\n",
              " 'his',\n",
              " 'teacher',\n",
              " 'who',\n",
              " 'Ronaldo',\n",
              " 'thought',\n",
              " 'disrespected',\n",
              " 'him',\n",
              " '.',\n",
              " 'He',\n",
              " 'then',\n",
              " 'turned',\n",
              " 'his',\n",
              " 'entire',\n",
              " 'attention',\n",
              " 'to',\n",
              " 'soccer',\n",
              " 'and',\n",
              " 'went',\n",
              " 'on',\n",
              " 'to',\n",
              " 'become',\n",
              " 'the',\n",
              " 'world',\n",
              " '’',\n",
              " 's',\n",
              " 'greatest',\n",
              " 'soccer',\n",
              " 'player',\n",
              " '.',\n",
              " 'But',\n",
              " 'at',\n",
              " 'the',\n",
              " 'age',\n",
              " 'of',\n",
              " '15',\n",
              " 'Ronaldo',\n",
              " 'was',\n",
              " 'diagnosed',\n",
              " 'with',\n",
              " '‘',\n",
              " 'racing',\n",
              " 'heart',\n",
              " '’',\n",
              " '.',\n",
              " 'His',\n",
              " 'condition',\n",
              " 'was',\n",
              " 'serious',\n",
              " 'and',\n",
              " 'would',\n",
              " 'have',\n",
              " 'made',\n",
              " 'him',\n",
              " 'let',\n",
              " 'go',\n",
              " 'of',\n",
              " 'football',\n",
              " '.',\n",
              " 'But',\n",
              " 'a',\n",
              " 'surgery',\n",
              " 'saved',\n",
              " 'him',\n",
              " 'and',\n",
              " 'he',\n",
              " 'went',\n",
              " 'back',\n",
              " 'for',\n",
              " 'his',\n",
              " 'training',\n",
              " '.']"
            ]
          },
          "metadata": {},
          "execution_count": 101
        }
      ]
    },
    {
      "cell_type": "code",
      "source": [
        "print(token)"
      ],
      "metadata": {
        "colab": {
          "base_uri": "https://localhost:8080/"
        },
        "id": "_GaNqO6RgPOD",
        "outputId": "c67150bb-2ee9-486e-febf-83252fbf41a1"
      },
      "execution_count": null,
      "outputs": [
        {
          "output_type": "stream",
          "name": "stdout",
          "text": [
            "['Ronaldo', 'was', 'born', 'on', 'February', '5', ',', '1985', 'and', 'was', 'named', 'Ronaldo', 'after', 'the', 'then', 'US', 'President', 'Ronald', 'Reagan', '.', 'He', 'grew', 'up', 'in', 'a', 'poor', 'family', 'and', 'had', 'to', 'share', 'a', 'bedroom', 'and', 'bathroom', 'with', 'his', 'older', 'brother', 'and', 'two', 'older', 'sisters', '.', 'He', 'started', 'playing', 'soccer', 'at', 'an', 'early', 'age', 'when', 'he', 'was', 'just', 'eight', '.', 'He', 'was', 'always', 'running', 'away', 'from', 'doing', 'homework', '.', 'He', 'was', 'nicknamed', '‘', 'cry', 'baby', '’', 'because', 'he', 'felt', 'bad', 'when', 'he', 'used', 'to', 'pass', 'the', 'ball', 'to', 'his', 'friends', 'and', 'they', 'couldn', '’', 't', 'score', '.', 'A', 'very', 'popular', 'student', 'in', 'school', ',', 'Ronaldo', 'was', 'expelled', 'at', 'the', 'age', 'of', '14', 'for', 'throwing', 'a', 'chair', 'at', 'his', 'teacher', 'who', 'Ronaldo', 'thought', 'disrespected', 'him', '.', 'He', 'then', 'turned', 'his', 'entire', 'attention', 'to', 'soccer', 'and', 'went', 'on', 'to', 'become', 'the', 'world', '’', 's', 'greatest', 'soccer', 'player', '.', 'But', 'at', 'the', 'age', 'of', '15', 'Ronaldo', 'was', 'diagnosed', 'with', '‘', 'racing', 'heart', '’', '.', 'His', 'condition', 'was', 'serious', 'and', 'would', 'have', 'made', 'him', 'let', 'go', 'of', 'football', '.', 'But', 'a', 'surgery', 'saved', 'him', 'and', 'he', 'went', 'back', 'for', 'his', 'training', '.']\n"
          ]
        }
      ]
    },
    {
      "cell_type": "code",
      "source": [
        "from nltk.probability import FreqDist"
      ],
      "metadata": {
        "id": "Shn1aIb8gRQD"
      },
      "execution_count": null,
      "outputs": []
    },
    {
      "cell_type": "code",
      "source": [
        "fdist = FreqDist(token)"
      ],
      "metadata": {
        "id": "viEvg9yzgT2C"
      },
      "execution_count": null,
      "outputs": []
    },
    {
      "cell_type": "code",
      "source": [
        "fdist"
      ],
      "metadata": {
        "colab": {
          "base_uri": "https://localhost:8080/"
        },
        "id": "PdSyXDX1gWYW",
        "outputId": "a94882a2-e583-4cf6-aaef-ff3e67bb0a86"
      },
      "execution_count": null,
      "outputs": [
        {
          "output_type": "execute_result",
          "data": {
            "text/plain": [
              "FreqDist({',': 2,\n",
              "          '.': 10,\n",
              "          '14': 1,\n",
              "          '15': 1,\n",
              "          '1985': 1,\n",
              "          '5': 1,\n",
              "          'A': 1,\n",
              "          'But': 2,\n",
              "          'February': 1,\n",
              "          'He': 5,\n",
              "          'His': 1,\n",
              "          'President': 1,\n",
              "          'Reagan': 1,\n",
              "          'Ronald': 1,\n",
              "          'Ronaldo': 5,\n",
              "          'US': 1,\n",
              "          'a': 4,\n",
              "          'after': 1,\n",
              "          'age': 3,\n",
              "          'always': 1,\n",
              "          'an': 1,\n",
              "          'and': 8,\n",
              "          'at': 4,\n",
              "          'attention': 1,\n",
              "          'away': 1,\n",
              "          'baby': 1,\n",
              "          'back': 1,\n",
              "          'bad': 1,\n",
              "          'ball': 1,\n",
              "          'bathroom': 1,\n",
              "          'because': 1,\n",
              "          'become': 1,\n",
              "          'bedroom': 1,\n",
              "          'born': 1,\n",
              "          'brother': 1,\n",
              "          'chair': 1,\n",
              "          'condition': 1,\n",
              "          'couldn': 1,\n",
              "          'cry': 1,\n",
              "          'diagnosed': 1,\n",
              "          'disrespected': 1,\n",
              "          'doing': 1,\n",
              "          'early': 1,\n",
              "          'eight': 1,\n",
              "          'entire': 1,\n",
              "          'expelled': 1,\n",
              "          'family': 1,\n",
              "          'felt': 1,\n",
              "          'football': 1,\n",
              "          'for': 2,\n",
              "          'friends': 1,\n",
              "          'from': 1,\n",
              "          'go': 1,\n",
              "          'greatest': 1,\n",
              "          'grew': 1,\n",
              "          'had': 1,\n",
              "          'have': 1,\n",
              "          'he': 4,\n",
              "          'heart': 1,\n",
              "          'him': 3,\n",
              "          'his': 5,\n",
              "          'homework': 1,\n",
              "          'in': 2,\n",
              "          'just': 1,\n",
              "          'let': 1,\n",
              "          'made': 1,\n",
              "          'named': 1,\n",
              "          'nicknamed': 1,\n",
              "          'of': 3,\n",
              "          'older': 2,\n",
              "          'on': 2,\n",
              "          'pass': 1,\n",
              "          'player': 1,\n",
              "          'playing': 1,\n",
              "          'poor': 1,\n",
              "          'popular': 1,\n",
              "          'racing': 1,\n",
              "          'running': 1,\n",
              "          's': 1,\n",
              "          'saved': 1,\n",
              "          'school': 1,\n",
              "          'score': 1,\n",
              "          'serious': 1,\n",
              "          'share': 1,\n",
              "          'sisters': 1,\n",
              "          'soccer': 3,\n",
              "          'started': 1,\n",
              "          'student': 1,\n",
              "          'surgery': 1,\n",
              "          't': 1,\n",
              "          'teacher': 1,\n",
              "          'the': 5,\n",
              "          'then': 2,\n",
              "          'they': 1,\n",
              "          'thought': 1,\n",
              "          'throwing': 1,\n",
              "          'to': 5,\n",
              "          'training': 1,\n",
              "          'turned': 1,\n",
              "          'two': 1,\n",
              "          'up': 1,\n",
              "          'used': 1,\n",
              "          'very': 1,\n",
              "          'was': 8,\n",
              "          'went': 2,\n",
              "          'when': 2,\n",
              "          'who': 1,\n",
              "          'with': 2,\n",
              "          'world': 1,\n",
              "          'would': 1,\n",
              "          '‘': 2,\n",
              "          '’': 4})"
            ]
          },
          "metadata": {},
          "execution_count": 105
        }
      ]
    },
    {
      "cell_type": "code",
      "source": [
        "fdist1 = fdist.most_common(5)"
      ],
      "metadata": {
        "id": "NUhH1xtZgbuh"
      },
      "execution_count": null,
      "outputs": []
    },
    {
      "cell_type": "code",
      "source": [
        "fdist1"
      ],
      "metadata": {
        "colab": {
          "base_uri": "https://localhost:8080/"
        },
        "id": "CMQARuYDgcc3",
        "outputId": "f7374462-9b0d-4cce-b4c6-0f28f75963a4"
      },
      "execution_count": null,
      "outputs": [
        {
          "output_type": "execute_result",
          "data": {
            "text/plain": [
              "[('.', 10), ('was', 8), ('and', 8), ('Ronaldo', 5), ('the', 5)]"
            ]
          },
          "metadata": {},
          "execution_count": 107
        }
      ]
    },
    {
      "cell_type": "code",
      "source": [
        "! pip install textblob"
      ],
      "metadata": {
        "colab": {
          "base_uri": "https://localhost:8080/"
        },
        "id": "azCqOBQdAzzL",
        "outputId": "d2b9e690-53b5-476f-ec59-bc75aa0f7249"
      },
      "execution_count": null,
      "outputs": [
        {
          "output_type": "stream",
          "name": "stdout",
          "text": [
            "Requirement already satisfied: textblob in /usr/local/lib/python3.7/dist-packages (0.15.3)\n",
            "Requirement already satisfied: nltk>=3.1 in /usr/local/lib/python3.7/dist-packages (from textblob) (3.2.5)\n",
            "Requirement already satisfied: six in /usr/local/lib/python3.7/dist-packages (from nltk>=3.1->textblob) (1.15.0)\n"
          ]
        }
      ]
    },
    {
      "cell_type": "code",
      "source": [
        "import textblob\n",
        "\n",
        "from textblob import TextBlob\n",
        "\n",
        "TextBlob(paragraph).ngrams(3)"
      ],
      "metadata": {
        "colab": {
          "base_uri": "https://localhost:8080/"
        },
        "id": "uBQeUXNNLcMD",
        "outputId": "f10797c7-0469-4726-cd2c-a69e601a96dd"
      },
      "execution_count": null,
      "outputs": [
        {
          "output_type": "execute_result",
          "data": {
            "text/plain": [
              "[WordList(['Ronaldo', 'was', 'born']),\n",
              " WordList(['was', 'born', 'on']),\n",
              " WordList(['born', 'on', 'February']),\n",
              " WordList(['on', 'February', '5']),\n",
              " WordList(['February', '5', '1985']),\n",
              " WordList(['5', '1985', 'and']),\n",
              " WordList(['1985', 'and', 'was']),\n",
              " WordList(['and', 'was', 'named']),\n",
              " WordList(['was', 'named', 'Ronaldo']),\n",
              " WordList(['named', 'Ronaldo', 'after']),\n",
              " WordList(['Ronaldo', 'after', 'the']),\n",
              " WordList(['after', 'the', 'then']),\n",
              " WordList(['the', 'then', 'US']),\n",
              " WordList(['then', 'US', 'President']),\n",
              " WordList(['US', 'President', 'Ronald']),\n",
              " WordList(['President', 'Ronald', 'Reagan']),\n",
              " WordList(['Ronald', 'Reagan', 'He']),\n",
              " WordList(['Reagan', 'He', 'grew']),\n",
              " WordList(['He', 'grew', 'up']),\n",
              " WordList(['grew', 'up', 'in']),\n",
              " WordList(['up', 'in', 'a']),\n",
              " WordList(['in', 'a', 'poor']),\n",
              " WordList(['a', 'poor', 'family']),\n",
              " WordList(['poor', 'family', 'and']),\n",
              " WordList(['family', 'and', 'had']),\n",
              " WordList(['and', 'had', 'to']),\n",
              " WordList(['had', 'to', 'share']),\n",
              " WordList(['to', 'share', 'a']),\n",
              " WordList(['share', 'a', 'bedroom']),\n",
              " WordList(['a', 'bedroom', 'and']),\n",
              " WordList(['bedroom', 'and', 'bathroom']),\n",
              " WordList(['and', 'bathroom', 'with']),\n",
              " WordList(['bathroom', 'with', 'his']),\n",
              " WordList(['with', 'his', 'older']),\n",
              " WordList(['his', 'older', 'brother']),\n",
              " WordList(['older', 'brother', 'and']),\n",
              " WordList(['brother', 'and', 'two']),\n",
              " WordList(['and', 'two', 'older']),\n",
              " WordList(['two', 'older', 'sisters']),\n",
              " WordList(['older', 'sisters', 'He']),\n",
              " WordList(['sisters', 'He', 'started']),\n",
              " WordList(['He', 'started', 'playing']),\n",
              " WordList(['started', 'playing', 'soccer']),\n",
              " WordList(['playing', 'soccer', 'at']),\n",
              " WordList(['soccer', 'at', 'an']),\n",
              " WordList(['at', 'an', 'early']),\n",
              " WordList(['an', 'early', 'age']),\n",
              " WordList(['early', 'age', 'when']),\n",
              " WordList(['age', 'when', 'he']),\n",
              " WordList(['when', 'he', 'was']),\n",
              " WordList(['he', 'was', 'just']),\n",
              " WordList(['was', 'just', 'eight']),\n",
              " WordList(['just', 'eight', 'He']),\n",
              " WordList(['eight', 'He', 'was']),\n",
              " WordList(['He', 'was', 'always']),\n",
              " WordList(['was', 'always', 'running']),\n",
              " WordList(['always', 'running', 'away']),\n",
              " WordList(['running', 'away', 'from']),\n",
              " WordList(['away', 'from', 'doing']),\n",
              " WordList(['from', 'doing', 'homework']),\n",
              " WordList(['doing', 'homework', 'He']),\n",
              " WordList(['homework', 'He', 'was']),\n",
              " WordList(['He', 'was', 'nicknamed']),\n",
              " WordList(['was', 'nicknamed', '‘']),\n",
              " WordList(['nicknamed', '‘', 'cry']),\n",
              " WordList(['‘', 'cry', 'baby']),\n",
              " WordList(['cry', 'baby', '’']),\n",
              " WordList(['baby', '’', 'because']),\n",
              " WordList(['’', 'because', 'he']),\n",
              " WordList(['because', 'he', 'felt']),\n",
              " WordList(['he', 'felt', 'bad']),\n",
              " WordList(['felt', 'bad', 'when']),\n",
              " WordList(['bad', 'when', 'he']),\n",
              " WordList(['when', 'he', 'used']),\n",
              " WordList(['he', 'used', 'to']),\n",
              " WordList(['used', 'to', 'pass']),\n",
              " WordList(['to', 'pass', 'the']),\n",
              " WordList(['pass', 'the', 'ball']),\n",
              " WordList(['the', 'ball', 'to']),\n",
              " WordList(['ball', 'to', 'his']),\n",
              " WordList(['to', 'his', 'friends']),\n",
              " WordList(['his', 'friends', 'and']),\n",
              " WordList(['friends', 'and', 'they']),\n",
              " WordList(['and', 'they', 'couldn']),\n",
              " WordList(['they', 'couldn', '’']),\n",
              " WordList(['couldn', '’', 't']),\n",
              " WordList(['’', 't', 'score']),\n",
              " WordList(['t', 'score', 'A']),\n",
              " WordList(['score', 'A', 'very']),\n",
              " WordList(['A', 'very', 'popular']),\n",
              " WordList(['very', 'popular', 'student']),\n",
              " WordList(['popular', 'student', 'in']),\n",
              " WordList(['student', 'in', 'school']),\n",
              " WordList(['in', 'school', 'Ronaldo']),\n",
              " WordList(['school', 'Ronaldo', 'was']),\n",
              " WordList(['Ronaldo', 'was', 'expelled']),\n",
              " WordList(['was', 'expelled', 'at']),\n",
              " WordList(['expelled', 'at', 'the']),\n",
              " WordList(['at', 'the', 'age']),\n",
              " WordList(['the', 'age', 'of']),\n",
              " WordList(['age', 'of', '14']),\n",
              " WordList(['of', '14', 'for']),\n",
              " WordList(['14', 'for', 'throwing']),\n",
              " WordList(['for', 'throwing', 'a']),\n",
              " WordList(['throwing', 'a', 'chair']),\n",
              " WordList(['a', 'chair', 'at']),\n",
              " WordList(['chair', 'at', 'his']),\n",
              " WordList(['at', 'his', 'teacher']),\n",
              " WordList(['his', 'teacher', 'who']),\n",
              " WordList(['teacher', 'who', 'Ronaldo']),\n",
              " WordList(['who', 'Ronaldo', 'thought']),\n",
              " WordList(['Ronaldo', 'thought', 'disrespected']),\n",
              " WordList(['thought', 'disrespected', 'him']),\n",
              " WordList(['disrespected', 'him', 'He']),\n",
              " WordList(['him', 'He', 'then']),\n",
              " WordList(['He', 'then', 'turned']),\n",
              " WordList(['then', 'turned', 'his']),\n",
              " WordList(['turned', 'his', 'entire']),\n",
              " WordList(['his', 'entire', 'attention']),\n",
              " WordList(['entire', 'attention', 'to']),\n",
              " WordList(['attention', 'to', 'soccer']),\n",
              " WordList(['to', 'soccer', 'and']),\n",
              " WordList(['soccer', 'and', 'went']),\n",
              " WordList(['and', 'went', 'on']),\n",
              " WordList(['went', 'on', 'to']),\n",
              " WordList(['on', 'to', 'become']),\n",
              " WordList(['to', 'become', 'the']),\n",
              " WordList(['become', 'the', 'world']),\n",
              " WordList(['the', 'world', '’']),\n",
              " WordList(['world', '’', 's']),\n",
              " WordList(['’', 's', 'greatest']),\n",
              " WordList(['s', 'greatest', 'soccer']),\n",
              " WordList(['greatest', 'soccer', 'player']),\n",
              " WordList(['soccer', 'player', 'But']),\n",
              " WordList(['player', 'But', 'at']),\n",
              " WordList(['But', 'at', 'the']),\n",
              " WordList(['at', 'the', 'age']),\n",
              " WordList(['the', 'age', 'of']),\n",
              " WordList(['age', 'of', '15']),\n",
              " WordList(['of', '15', 'Ronaldo']),\n",
              " WordList(['15', 'Ronaldo', 'was']),\n",
              " WordList(['Ronaldo', 'was', 'diagnosed']),\n",
              " WordList(['was', 'diagnosed', 'with']),\n",
              " WordList(['diagnosed', 'with', '‘']),\n",
              " WordList(['with', '‘', 'racing']),\n",
              " WordList(['‘', 'racing', 'heart']),\n",
              " WordList(['racing', 'heart', '’']),\n",
              " WordList(['heart', '’', 'His']),\n",
              " WordList(['’', 'His', 'condition']),\n",
              " WordList(['His', 'condition', 'was']),\n",
              " WordList(['condition', 'was', 'serious']),\n",
              " WordList(['was', 'serious', 'and']),\n",
              " WordList(['serious', 'and', 'would']),\n",
              " WordList(['and', 'would', 'have']),\n",
              " WordList(['would', 'have', 'made']),\n",
              " WordList(['have', 'made', 'him']),\n",
              " WordList(['made', 'him', 'let']),\n",
              " WordList(['him', 'let', 'go']),\n",
              " WordList(['let', 'go', 'of']),\n",
              " WordList(['go', 'of', 'football']),\n",
              " WordList(['of', 'football', 'But']),\n",
              " WordList(['football', 'But', 'a']),\n",
              " WordList(['But', 'a', 'surgery']),\n",
              " WordList(['a', 'surgery', 'saved']),\n",
              " WordList(['surgery', 'saved', 'him']),\n",
              " WordList(['saved', 'him', 'and']),\n",
              " WordList(['him', 'and', 'he']),\n",
              " WordList(['and', 'he', 'went']),\n",
              " WordList(['he', 'went', 'back']),\n",
              " WordList(['went', 'back', 'for']),\n",
              " WordList(['back', 'for', 'his']),\n",
              " WordList(['for', 'his', 'training'])]"
            ]
          },
          "metadata": {},
          "execution_count": 109
        }
      ]
    },
    {
      "cell_type": "code",
      "source": [
        "TextBlob(paragraph).ngrams(4)"
      ],
      "metadata": {
        "colab": {
          "base_uri": "https://localhost:8080/"
        },
        "id": "vOyfjTingrIE",
        "outputId": "133cf7ce-80fa-44d7-f65d-a8abbef41700"
      },
      "execution_count": null,
      "outputs": [
        {
          "output_type": "execute_result",
          "data": {
            "text/plain": [
              "[WordList(['Ronaldo', 'was', 'born', 'on']),\n",
              " WordList(['was', 'born', 'on', 'February']),\n",
              " WordList(['born', 'on', 'February', '5']),\n",
              " WordList(['on', 'February', '5', '1985']),\n",
              " WordList(['February', '5', '1985', 'and']),\n",
              " WordList(['5', '1985', 'and', 'was']),\n",
              " WordList(['1985', 'and', 'was', 'named']),\n",
              " WordList(['and', 'was', 'named', 'Ronaldo']),\n",
              " WordList(['was', 'named', 'Ronaldo', 'after']),\n",
              " WordList(['named', 'Ronaldo', 'after', 'the']),\n",
              " WordList(['Ronaldo', 'after', 'the', 'then']),\n",
              " WordList(['after', 'the', 'then', 'US']),\n",
              " WordList(['the', 'then', 'US', 'President']),\n",
              " WordList(['then', 'US', 'President', 'Ronald']),\n",
              " WordList(['US', 'President', 'Ronald', 'Reagan']),\n",
              " WordList(['President', 'Ronald', 'Reagan', 'He']),\n",
              " WordList(['Ronald', 'Reagan', 'He', 'grew']),\n",
              " WordList(['Reagan', 'He', 'grew', 'up']),\n",
              " WordList(['He', 'grew', 'up', 'in']),\n",
              " WordList(['grew', 'up', 'in', 'a']),\n",
              " WordList(['up', 'in', 'a', 'poor']),\n",
              " WordList(['in', 'a', 'poor', 'family']),\n",
              " WordList(['a', 'poor', 'family', 'and']),\n",
              " WordList(['poor', 'family', 'and', 'had']),\n",
              " WordList(['family', 'and', 'had', 'to']),\n",
              " WordList(['and', 'had', 'to', 'share']),\n",
              " WordList(['had', 'to', 'share', 'a']),\n",
              " WordList(['to', 'share', 'a', 'bedroom']),\n",
              " WordList(['share', 'a', 'bedroom', 'and']),\n",
              " WordList(['a', 'bedroom', 'and', 'bathroom']),\n",
              " WordList(['bedroom', 'and', 'bathroom', 'with']),\n",
              " WordList(['and', 'bathroom', 'with', 'his']),\n",
              " WordList(['bathroom', 'with', 'his', 'older']),\n",
              " WordList(['with', 'his', 'older', 'brother']),\n",
              " WordList(['his', 'older', 'brother', 'and']),\n",
              " WordList(['older', 'brother', 'and', 'two']),\n",
              " WordList(['brother', 'and', 'two', 'older']),\n",
              " WordList(['and', 'two', 'older', 'sisters']),\n",
              " WordList(['two', 'older', 'sisters', 'He']),\n",
              " WordList(['older', 'sisters', 'He', 'started']),\n",
              " WordList(['sisters', 'He', 'started', 'playing']),\n",
              " WordList(['He', 'started', 'playing', 'soccer']),\n",
              " WordList(['started', 'playing', 'soccer', 'at']),\n",
              " WordList(['playing', 'soccer', 'at', 'an']),\n",
              " WordList(['soccer', 'at', 'an', 'early']),\n",
              " WordList(['at', 'an', 'early', 'age']),\n",
              " WordList(['an', 'early', 'age', 'when']),\n",
              " WordList(['early', 'age', 'when', 'he']),\n",
              " WordList(['age', 'when', 'he', 'was']),\n",
              " WordList(['when', 'he', 'was', 'just']),\n",
              " WordList(['he', 'was', 'just', 'eight']),\n",
              " WordList(['was', 'just', 'eight', 'He']),\n",
              " WordList(['just', 'eight', 'He', 'was']),\n",
              " WordList(['eight', 'He', 'was', 'always']),\n",
              " WordList(['He', 'was', 'always', 'running']),\n",
              " WordList(['was', 'always', 'running', 'away']),\n",
              " WordList(['always', 'running', 'away', 'from']),\n",
              " WordList(['running', 'away', 'from', 'doing']),\n",
              " WordList(['away', 'from', 'doing', 'homework']),\n",
              " WordList(['from', 'doing', 'homework', 'He']),\n",
              " WordList(['doing', 'homework', 'He', 'was']),\n",
              " WordList(['homework', 'He', 'was', 'nicknamed']),\n",
              " WordList(['He', 'was', 'nicknamed', '‘']),\n",
              " WordList(['was', 'nicknamed', '‘', 'cry']),\n",
              " WordList(['nicknamed', '‘', 'cry', 'baby']),\n",
              " WordList(['‘', 'cry', 'baby', '’']),\n",
              " WordList(['cry', 'baby', '’', 'because']),\n",
              " WordList(['baby', '’', 'because', 'he']),\n",
              " WordList(['’', 'because', 'he', 'felt']),\n",
              " WordList(['because', 'he', 'felt', 'bad']),\n",
              " WordList(['he', 'felt', 'bad', 'when']),\n",
              " WordList(['felt', 'bad', 'when', 'he']),\n",
              " WordList(['bad', 'when', 'he', 'used']),\n",
              " WordList(['when', 'he', 'used', 'to']),\n",
              " WordList(['he', 'used', 'to', 'pass']),\n",
              " WordList(['used', 'to', 'pass', 'the']),\n",
              " WordList(['to', 'pass', 'the', 'ball']),\n",
              " WordList(['pass', 'the', 'ball', 'to']),\n",
              " WordList(['the', 'ball', 'to', 'his']),\n",
              " WordList(['ball', 'to', 'his', 'friends']),\n",
              " WordList(['to', 'his', 'friends', 'and']),\n",
              " WordList(['his', 'friends', 'and', 'they']),\n",
              " WordList(['friends', 'and', 'they', 'couldn']),\n",
              " WordList(['and', 'they', 'couldn', '’']),\n",
              " WordList(['they', 'couldn', '’', 't']),\n",
              " WordList(['couldn', '’', 't', 'score']),\n",
              " WordList(['’', 't', 'score', 'A']),\n",
              " WordList(['t', 'score', 'A', 'very']),\n",
              " WordList(['score', 'A', 'very', 'popular']),\n",
              " WordList(['A', 'very', 'popular', 'student']),\n",
              " WordList(['very', 'popular', 'student', 'in']),\n",
              " WordList(['popular', 'student', 'in', 'school']),\n",
              " WordList(['student', 'in', 'school', 'Ronaldo']),\n",
              " WordList(['in', 'school', 'Ronaldo', 'was']),\n",
              " WordList(['school', 'Ronaldo', 'was', 'expelled']),\n",
              " WordList(['Ronaldo', 'was', 'expelled', 'at']),\n",
              " WordList(['was', 'expelled', 'at', 'the']),\n",
              " WordList(['expelled', 'at', 'the', 'age']),\n",
              " WordList(['at', 'the', 'age', 'of']),\n",
              " WordList(['the', 'age', 'of', '14']),\n",
              " WordList(['age', 'of', '14', 'for']),\n",
              " WordList(['of', '14', 'for', 'throwing']),\n",
              " WordList(['14', 'for', 'throwing', 'a']),\n",
              " WordList(['for', 'throwing', 'a', 'chair']),\n",
              " WordList(['throwing', 'a', 'chair', 'at']),\n",
              " WordList(['a', 'chair', 'at', 'his']),\n",
              " WordList(['chair', 'at', 'his', 'teacher']),\n",
              " WordList(['at', 'his', 'teacher', 'who']),\n",
              " WordList(['his', 'teacher', 'who', 'Ronaldo']),\n",
              " WordList(['teacher', 'who', 'Ronaldo', 'thought']),\n",
              " WordList(['who', 'Ronaldo', 'thought', 'disrespected']),\n",
              " WordList(['Ronaldo', 'thought', 'disrespected', 'him']),\n",
              " WordList(['thought', 'disrespected', 'him', 'He']),\n",
              " WordList(['disrespected', 'him', 'He', 'then']),\n",
              " WordList(['him', 'He', 'then', 'turned']),\n",
              " WordList(['He', 'then', 'turned', 'his']),\n",
              " WordList(['then', 'turned', 'his', 'entire']),\n",
              " WordList(['turned', 'his', 'entire', 'attention']),\n",
              " WordList(['his', 'entire', 'attention', 'to']),\n",
              " WordList(['entire', 'attention', 'to', 'soccer']),\n",
              " WordList(['attention', 'to', 'soccer', 'and']),\n",
              " WordList(['to', 'soccer', 'and', 'went']),\n",
              " WordList(['soccer', 'and', 'went', 'on']),\n",
              " WordList(['and', 'went', 'on', 'to']),\n",
              " WordList(['went', 'on', 'to', 'become']),\n",
              " WordList(['on', 'to', 'become', 'the']),\n",
              " WordList(['to', 'become', 'the', 'world']),\n",
              " WordList(['become', 'the', 'world', '’']),\n",
              " WordList(['the', 'world', '’', 's']),\n",
              " WordList(['world', '’', 's', 'greatest']),\n",
              " WordList(['’', 's', 'greatest', 'soccer']),\n",
              " WordList(['s', 'greatest', 'soccer', 'player']),\n",
              " WordList(['greatest', 'soccer', 'player', 'But']),\n",
              " WordList(['soccer', 'player', 'But', 'at']),\n",
              " WordList(['player', 'But', 'at', 'the']),\n",
              " WordList(['But', 'at', 'the', 'age']),\n",
              " WordList(['at', 'the', 'age', 'of']),\n",
              " WordList(['the', 'age', 'of', '15']),\n",
              " WordList(['age', 'of', '15', 'Ronaldo']),\n",
              " WordList(['of', '15', 'Ronaldo', 'was']),\n",
              " WordList(['15', 'Ronaldo', 'was', 'diagnosed']),\n",
              " WordList(['Ronaldo', 'was', 'diagnosed', 'with']),\n",
              " WordList(['was', 'diagnosed', 'with', '‘']),\n",
              " WordList(['diagnosed', 'with', '‘', 'racing']),\n",
              " WordList(['with', '‘', 'racing', 'heart']),\n",
              " WordList(['‘', 'racing', 'heart', '’']),\n",
              " WordList(['racing', 'heart', '’', 'His']),\n",
              " WordList(['heart', '’', 'His', 'condition']),\n",
              " WordList(['’', 'His', 'condition', 'was']),\n",
              " WordList(['His', 'condition', 'was', 'serious']),\n",
              " WordList(['condition', 'was', 'serious', 'and']),\n",
              " WordList(['was', 'serious', 'and', 'would']),\n",
              " WordList(['serious', 'and', 'would', 'have']),\n",
              " WordList(['and', 'would', 'have', 'made']),\n",
              " WordList(['would', 'have', 'made', 'him']),\n",
              " WordList(['have', 'made', 'him', 'let']),\n",
              " WordList(['made', 'him', 'let', 'go']),\n",
              " WordList(['him', 'let', 'go', 'of']),\n",
              " WordList(['let', 'go', 'of', 'football']),\n",
              " WordList(['go', 'of', 'football', 'But']),\n",
              " WordList(['of', 'football', 'But', 'a']),\n",
              " WordList(['football', 'But', 'a', 'surgery']),\n",
              " WordList(['But', 'a', 'surgery', 'saved']),\n",
              " WordList(['a', 'surgery', 'saved', 'him']),\n",
              " WordList(['surgery', 'saved', 'him', 'and']),\n",
              " WordList(['saved', 'him', 'and', 'he']),\n",
              " WordList(['him', 'and', 'he', 'went']),\n",
              " WordList(['and', 'he', 'went', 'back']),\n",
              " WordList(['he', 'went', 'back', 'for']),\n",
              " WordList(['went', 'back', 'for', 'his']),\n",
              " WordList(['back', 'for', 'his', 'training'])]"
            ]
          },
          "metadata": {},
          "execution_count": 110
        }
      ]
    },
    {
      "cell_type": "code",
      "source": [
        "from nltk.stem import PorterStemmer"
      ],
      "metadata": {
        "id": "ZWex8L_OMrWb"
      },
      "execution_count": null,
      "outputs": []
    },
    {
      "cell_type": "code",
      "source": [
        "pst = PorterStemmer()"
      ],
      "metadata": {
        "id": "1UqEeQwqM33Z"
      },
      "execution_count": null,
      "outputs": []
    },
    {
      "cell_type": "code",
      "source": [
        "pst.stem('sending')"
      ],
      "metadata": {
        "colab": {
          "base_uri": "https://localhost:8080/",
          "height": 35
        },
        "id": "6HDivA42M87X",
        "outputId": "a3644e34-af7b-48d0-b477-d8d8c6dcf5dd"
      },
      "execution_count": null,
      "outputs": [
        {
          "output_type": "execute_result",
          "data": {
            "text/plain": [
              "'send'"
            ],
            "application/vnd.google.colaboratory.intrinsic+json": {
              "type": "string"
            }
          },
          "metadata": {},
          "execution_count": 113
        }
      ]
    },
    {
      "cell_type": "code",
      "source": [
        "from nltk.stem import LancasterStemmer\n",
        "lst=LancasterStemmer()\n",
        "lst.stem('football')"
      ],
      "metadata": {
        "colab": {
          "base_uri": "https://localhost:8080/",
          "height": 35
        },
        "id": "RI5d3yd3PWJE",
        "outputId": "ab65ef3c-a083-4694-9113-1236b1b2162d"
      },
      "execution_count": null,
      "outputs": [
        {
          "output_type": "execute_result",
          "data": {
            "text/plain": [
              "'footbal'"
            ],
            "application/vnd.google.colaboratory.intrinsic+json": {
              "type": "string"
            }
          },
          "metadata": {},
          "execution_count": 114
        }
      ]
    },
    {
      "cell_type": "code",
      "source": [
        "from nltk.stem import WordNetLemmatizer\n",
        "nltk.download('wordnet')\n",
        "lemmatizer=WordNetLemmatizer()\n",
        "lemmatizer.lemmatize('football')"
      ],
      "metadata": {
        "colab": {
          "base_uri": "https://localhost:8080/",
          "height": 70
        },
        "id": "tSb4P23KPezh",
        "outputId": "9b56a42d-bbd8-456a-e6d0-ab09738764e9"
      },
      "execution_count": null,
      "outputs": [
        {
          "output_type": "stream",
          "name": "stdout",
          "text": [
            "[nltk_data] Downloading package wordnet to /root/nltk_data...\n",
            "[nltk_data]   Package wordnet is already up-to-date!\n"
          ]
        },
        {
          "output_type": "execute_result",
          "data": {
            "text/plain": [
              "'football'"
            ],
            "application/vnd.google.colaboratory.intrinsic+json": {
              "type": "string"
            }
          },
          "metadata": {},
          "execution_count": 115
        }
      ]
    },
    {
      "cell_type": "markdown",
      "source": [
        "**STOP** **WORDS**"
      ],
      "metadata": {
        "id": "BVmnz4FxjFh7"
      }
    },
    {
      "cell_type": "code",
      "source": [
        "from nltk import word_tokenize\n",
        "from nltk.corpus import stopwords\n",
        "import nltk"
      ],
      "metadata": {
        "id": "A8IyqNpTPjPT"
      },
      "execution_count": null,
      "outputs": []
    },
    {
      "cell_type": "code",
      "source": [
        "nltk.download('stopwords')"
      ],
      "metadata": {
        "colab": {
          "base_uri": "https://localhost:8080/"
        },
        "id": "_m99E2DOPosl",
        "outputId": "ea5a345e-635e-45a9-ea45-b739cfb7bb19"
      },
      "execution_count": null,
      "outputs": [
        {
          "output_type": "stream",
          "name": "stdout",
          "text": [
            "[nltk_data] Downloading package stopwords to /root/nltk_data...\n",
            "[nltk_data]   Package stopwords is already up-to-date!\n"
          ]
        },
        {
          "output_type": "execute_result",
          "data": {
            "text/plain": [
              "True"
            ]
          },
          "metadata": {},
          "execution_count": 117
        }
      ]
    },
    {
      "cell_type": "code",
      "source": [
        "a=set(stopwords.words('english'))"
      ],
      "metadata": {
        "id": "3fCEdIfXjXKW"
      },
      "execution_count": null,
      "outputs": []
    },
    {
      "cell_type": "code",
      "source": [
        "text1=word_tokenize(paragraph.lower())"
      ],
      "metadata": {
        "id": "RIcoDFOWjYZB"
      },
      "execution_count": null,
      "outputs": []
    },
    {
      "cell_type": "code",
      "source": [
        "print(text1)"
      ],
      "metadata": {
        "colab": {
          "base_uri": "https://localhost:8080/"
        },
        "id": "_aqXwJV-jaaM",
        "outputId": "a6b8266c-a01c-40b4-c8a1-86cb259ecd76"
      },
      "execution_count": null,
      "outputs": [
        {
          "output_type": "stream",
          "name": "stdout",
          "text": [
            "['ronaldo', 'was', 'born', 'on', 'february', '5', ',', '1985', 'and', 'was', 'named', 'ronaldo', 'after', 'the', 'then', 'us', 'president', 'ronald', 'reagan', '.', 'he', 'grew', 'up', 'in', 'a', 'poor', 'family', 'and', 'had', 'to', 'share', 'a', 'bedroom', 'and', 'bathroom', 'with', 'his', 'older', 'brother', 'and', 'two', 'older', 'sisters', '.', 'he', 'started', 'playing', 'soccer', 'at', 'an', 'early', 'age', 'when', 'he', 'was', 'just', 'eight', '.', 'he', 'was', 'always', 'running', 'away', 'from', 'doing', 'homework', '.', 'he', 'was', 'nicknamed', '‘', 'cry', 'baby', '’', 'because', 'he', 'felt', 'bad', 'when', 'he', 'used', 'to', 'pass', 'the', 'ball', 'to', 'his', 'friends', 'and', 'they', 'couldn', '’', 't', 'score', '.', 'a', 'very', 'popular', 'student', 'in', 'school', ',', 'ronaldo', 'was', 'expelled', 'at', 'the', 'age', 'of', '14', 'for', 'throwing', 'a', 'chair', 'at', 'his', 'teacher', 'who', 'ronaldo', 'thought', 'disrespected', 'him', '.', 'he', 'then', 'turned', 'his', 'entire', 'attention', 'to', 'soccer', 'and', 'went', 'on', 'to', 'become', 'the', 'world', '’', 's', 'greatest', 'soccer', 'player', '.', 'but', 'at', 'the', 'age', 'of', '15', 'ronaldo', 'was', 'diagnosed', 'with', '‘', 'racing', 'heart', '’', '.', 'his', 'condition', 'was', 'serious', 'and', 'would', 'have', 'made', 'him', 'let', 'go', 'of', 'football', '.', 'but', 'a', 'surgery', 'saved', 'him', 'and', 'he', 'went', 'back', 'for', 'his', 'training', '.']\n"
          ]
        }
      ]
    },
    {
      "cell_type": "code",
      "source": [
        "stopwords=[x for x in text1 if x not in a]"
      ],
      "metadata": {
        "id": "8PWWK0xKjgG_"
      },
      "execution_count": null,
      "outputs": []
    },
    {
      "cell_type": "code",
      "source": [
        "print(stopwords)"
      ],
      "metadata": {
        "colab": {
          "base_uri": "https://localhost:8080/"
        },
        "id": "e0yIX9wJjhF3",
        "outputId": "2d7f19f8-f319-4aac-d675-2091b86c692f"
      },
      "execution_count": null,
      "outputs": [
        {
          "output_type": "stream",
          "name": "stdout",
          "text": [
            "['ronaldo', 'born', 'february', '5', ',', '1985', 'named', 'ronaldo', 'us', 'president', 'ronald', 'reagan', '.', 'grew', 'poor', 'family', 'share', 'bedroom', 'bathroom', 'older', 'brother', 'two', 'older', 'sisters', '.', 'started', 'playing', 'soccer', 'early', 'age', 'eight', '.', 'always', 'running', 'away', 'homework', '.', 'nicknamed', '‘', 'cry', 'baby', '’', 'felt', 'bad', 'used', 'pass', 'ball', 'friends', '’', 'score', '.', 'popular', 'student', 'school', ',', 'ronaldo', 'expelled', 'age', '14', 'throwing', 'chair', 'teacher', 'ronaldo', 'thought', 'disrespected', '.', 'turned', 'entire', 'attention', 'soccer', 'went', 'become', 'world', '’', 'greatest', 'soccer', 'player', '.', 'age', '15', 'ronaldo', 'diagnosed', '‘', 'racing', 'heart', '’', '.', 'condition', 'serious', 'would', 'made', 'let', 'go', 'football', '.', 'surgery', 'saved', 'went', 'back', 'training', '.']\n"
          ]
        }
      ]
    },
    {
      "cell_type": "code",
      "source": [
        "from wordcloud import WordCloud\n",
        "import matplotlib.pyplot as plt"
      ],
      "metadata": {
        "id": "jE5A0BB6jxrQ"
      },
      "execution_count": null,
      "outputs": []
    },
    {
      "cell_type": "code",
      "source": [
        "all_words=' '.join([t for t in stopwords])\n",
        "wordcloud=WordCloud(width=800,height=500,random_state=21,max_font_size=110).generate(all_words)\n",
        "plt.figure(figsize=(12,8))\n",
        "plt.imshow(wordcloud,interpolation=\"bilinear\")\n",
        "plt.axis('off')\n",
        "plt.show()"
      ],
      "metadata": {
        "colab": {
          "base_uri": "https://localhost:8080/",
          "height": 415
        },
        "id": "T68ISKIpj0S7",
        "outputId": "f1cf7db0-2522-41ed-8fbd-1b93269c5e45"
      },
      "execution_count": null,
      "outputs": [
        {
          "output_type": "display_data",
          "data": {
            "text/plain": [
              "<Figure size 864x576 with 1 Axes>"
            ],
            "image/png": "[encoded data removed]"
          },
          "metadata": {
            "needs_background": "light"
          }
        }
      ]
    },
    {
      "cell_type": "markdown",
      "source": [
        "**POS** **Tagging**"
      ],
      "metadata": {
        "id": "FEIcEr3ekuRd"
      }
    },
    {
      "cell_type": "code",
      "source": [
        "nltk.download('averaged_perceptron_tagger')"
      ],
      "metadata": {
        "colab": {
          "base_uri": "https://localhost:8080/"
        },
        "id": "25VM7t6Pk4YG",
        "outputId": "3ce40a0f-d14e-494c-8294-54311151faa7"
      },
      "execution_count": null,
      "outputs": [
        {
          "output_type": "stream",
          "name": "stdout",
          "text": [
            "[nltk_data] Downloading package averaged_perceptron_tagger to\n",
            "[nltk_data]     /root/nltk_data...\n",
            "[nltk_data]   Unzipping taggers/averaged_perceptron_tagger.zip.\n"
          ]
        },
        {
          "output_type": "execute_result",
          "data": {
            "text/plain": [
              "True"
            ]
          },
          "metadata": {},
          "execution_count": 128
        }
      ]
    },
    {
      "cell_type": "code",
      "source": [
        "#Pos Tags\n",
        "for token in text1:\n",
        "  print(nltk.pos_tag([token]))\n"
      ],
      "metadata": {
        "colab": {
          "base_uri": "https://localhost:8080/"
        },
        "id": "ynchRdhYlJYP",
        "outputId": "710b94b5-50bf-4d69-a352-1a28f40128dc"
      },
      "execution_count": null,
      "outputs": [
        {
          "output_type": "stream",
          "name": "stdout",
          "text": [
            "[('ronaldo', 'NN')]\n",
            "[('was', 'VBD')]\n",
            "[('born', 'NN')]\n",
            "[('on', 'IN')]\n",
            "[('february', 'JJ')]\n",
            "[('5', 'CD')]\n",
            "[(',', ',')]\n",
            "[('1985', 'CD')]\n",
            "[('and', 'CC')]\n",
            "[('was', 'VBD')]\n",
            "[('named', 'VBN')]\n",
            "[('ronaldo', 'NN')]\n",
            "[('after', 'IN')]\n",
            "[('the', 'DT')]\n",
            "[('then', 'RB')]\n",
            "[('us', 'PRP')]\n",
            "[('president', 'NN')]\n",
            "[('ronald', 'NN')]\n",
            "[('reagan', 'NN')]\n",
            "[('.', '.')]\n",
            "[('he', 'PRP')]\n",
            "[('grew', 'VBD')]\n",
            "[('up', 'RB')]\n",
            "[('in', 'IN')]\n",
            "[('a', 'DT')]\n",
            "[('poor', 'JJ')]\n",
            "[('family', 'NN')]\n",
            "[('and', 'CC')]\n",
            "[('had', 'VBD')]\n",
            "[('to', 'TO')]\n",
            "[('share', 'NN')]\n",
            "[('a', 'DT')]\n",
            "[('bedroom', 'NN')]\n",
            "[('and', 'CC')]\n",
            "[('bathroom', 'NN')]\n",
            "[('with', 'IN')]\n",
            "[('his', 'PRP$')]\n",
            "[('older', 'JJR')]\n",
            "[('brother', 'NN')]\n",
            "[('and', 'CC')]\n",
            "[('two', 'CD')]\n",
            "[('older', 'JJR')]\n",
            "[('sisters', 'NNS')]\n",
            "[('.', '.')]\n",
            "[('he', 'PRP')]\n",
            "[('started', 'VBN')]\n",
            "[('playing', 'VBG')]\n",
            "[('soccer', 'NN')]\n",
            "[('at', 'IN')]\n",
            "[('an', 'DT')]\n",
            "[('early', 'RB')]\n",
            "[('age', 'NN')]\n",
            "[('when', 'WRB')]\n",
            "[('he', 'PRP')]\n",
            "[('was', 'VBD')]\n",
            "[('just', 'RB')]\n",
            "[('eight', 'CD')]\n",
            "[('.', '.')]\n",
            "[('he', 'PRP')]\n",
            "[('was', 'VBD')]\n",
            "[('always', 'RB')]\n",
            "[('running', 'VBG')]\n",
            "[('away', 'RB')]\n",
            "[('from', 'IN')]\n",
            "[('doing', 'VBG')]\n",
            "[('homework', 'NN')]\n",
            "[('.', '.')]\n",
            "[('he', 'PRP')]\n",
            "[('was', 'VBD')]\n",
            "[('nicknamed', 'VBN')]\n",
            "[('‘', 'NN')]\n",
            "[('cry', 'NN')]\n",
            "[('baby', 'NN')]\n",
            "[('’', 'NN')]\n",
            "[('because', 'IN')]\n",
            "[('he', 'PRP')]\n",
            "[('felt', 'NN')]\n",
            "[('bad', 'JJ')]\n",
            "[('when', 'WRB')]\n",
            "[('he', 'PRP')]\n",
            "[('used', 'VBN')]\n",
            "[('to', 'TO')]\n",
            "[('pass', 'NN')]\n",
            "[('the', 'DT')]\n",
            "[('ball', 'NN')]\n",
            "[('to', 'TO')]\n",
            "[('his', 'PRP$')]\n",
            "[('friends', 'NNS')]\n",
            "[('and', 'CC')]\n",
            "[('they', 'PRP')]\n",
            "[('couldn', 'NN')]\n",
            "[('’', 'NN')]\n",
            "[('t', 'NN')]\n",
            "[('score', 'NN')]\n",
            "[('.', '.')]\n",
            "[('a', 'DT')]\n",
            "[('very', 'RB')]\n",
            "[('popular', 'JJ')]\n",
            "[('student', 'NN')]\n",
            "[('in', 'IN')]\n",
            "[('school', 'NN')]\n",
            "[(',', ',')]\n",
            "[('ronaldo', 'NN')]\n",
            "[('was', 'VBD')]\n",
            "[('expelled', 'VBN')]\n",
            "[('at', 'IN')]\n",
            "[('the', 'DT')]\n",
            "[('age', 'NN')]\n",
            "[('of', 'IN')]\n",
            "[('14', 'CD')]\n",
            "[('for', 'IN')]\n",
            "[('throwing', 'VBG')]\n",
            "[('a', 'DT')]\n",
            "[('chair', 'NN')]\n",
            "[('at', 'IN')]\n",
            "[('his', 'PRP$')]\n",
            "[('teacher', 'NN')]\n",
            "[('who', 'WP')]\n",
            "[('ronaldo', 'NN')]\n",
            "[('thought', 'NN')]\n",
            "[('disrespected', 'VBN')]\n",
            "[('him', 'PRP')]\n",
            "[('.', '.')]\n",
            "[('he', 'PRP')]\n",
            "[('then', 'RB')]\n",
            "[('turned', 'VBD')]\n",
            "[('his', 'PRP$')]\n",
            "[('entire', 'JJ')]\n",
            "[('attention', 'NN')]\n",
            "[('to', 'TO')]\n",
            "[('soccer', 'NN')]\n",
            "[('and', 'CC')]\n",
            "[('went', 'VBD')]\n",
            "[('on', 'IN')]\n",
            "[('to', 'TO')]\n",
            "[('become', 'NN')]\n",
            "[('the', 'DT')]\n",
            "[('world', 'NN')]\n",
            "[('’', 'NN')]\n",
            "[('s', 'NN')]\n",
            "[('greatest', 'JJS')]\n",
            "[('soccer', 'NN')]\n",
            "[('player', 'NN')]\n",
            "[('.', '.')]\n",
            "[('but', 'CC')]\n",
            "[('at', 'IN')]\n",
            "[('the', 'DT')]\n",
            "[('age', 'NN')]\n",
            "[('of', 'IN')]\n",
            "[('15', 'CD')]\n",
            "[('ronaldo', 'NN')]\n",
            "[('was', 'VBD')]\n",
            "[('diagnosed', 'VBN')]\n",
            "[('with', 'IN')]\n",
            "[('‘', 'NN')]\n",
            "[('racing', 'VBG')]\n",
            "[('heart', 'NN')]\n",
            "[('’', 'NN')]\n",
            "[('.', '.')]\n",
            "[('his', 'PRP$')]\n",
            "[('condition', 'NN')]\n",
            "[('was', 'VBD')]\n",
            "[('serious', 'JJ')]\n",
            "[('and', 'CC')]\n",
            "[('would', 'MD')]\n",
            "[('have', 'VB')]\n",
            "[('made', 'VBN')]\n",
            "[('him', 'PRP')]\n",
            "[('let', 'VB')]\n",
            "[('go', 'VB')]\n",
            "[('of', 'IN')]\n",
            "[('football', 'NN')]\n",
            "[('.', '.')]\n",
            "[('but', 'CC')]\n",
            "[('a', 'DT')]\n",
            "[('surgery', 'NN')]\n",
            "[('saved', 'VBN')]\n",
            "[('him', 'PRP')]\n",
            "[('and', 'CC')]\n",
            "[('he', 'PRP')]\n",
            "[('went', 'VBD')]\n",
            "[('back', 'RB')]\n",
            "[('for', 'IN')]\n",
            "[('his', 'PRP$')]\n",
            "[('training', 'NN')]\n",
            "[('.', '.')]\n"
          ]
        }
      ]
    },
    {
      "cell_type": "markdown",
      "source": [
        "**TF-IDF**"
      ],
      "metadata": {
        "id": "rHdkvtadq4i1"
      }
    },
    {
      "cell_type": "code",
      "source": [
        "from sklearn.feature_extraction.text import TfidfVectorizer"
      ],
      "metadata": {
        "id": "RwVY1sWTobsw"
      },
      "execution_count": null,
      "outputs": []
    },
    {
      "cell_type": "code",
      "source": [
        "vectorizer = TfidfVectorizer()"
      ],
      "metadata": {
        "id": "P_p15mywowWB"
      },
      "execution_count": null,
      "outputs": []
    },
    {
      "cell_type": "code",
      "source": [
        "x = vectorizer.fit_transform(stopwords)"
      ],
      "metadata": {
        "id": "bwOG8kcjpCEm"
      },
      "execution_count": null,
      "outputs": []
    },
    {
      "cell_type": "code",
      "source": [
        "print(vectorizer.get_feature_names())"
      ],
      "metadata": {
        "colab": {
          "base_uri": "https://localhost:8080/"
        },
        "id": "84OViu-uqsEI",
        "outputId": "59b2eabb-0ef2-45ec-d77d-4dc6c912229a"
      },
      "execution_count": null,
      "outputs": [
        {
          "output_type": "stream",
          "name": "stdout",
          "text": [
            "['14', '15', '1985', 'age', 'always', 'attention', 'away', 'baby', 'back', 'bad', 'ball', 'bathroom', 'become', 'bedroom', 'born', 'brother', 'chair', 'condition', 'cry', 'diagnosed', 'disrespected', 'early', 'eight', 'entire', 'expelled', 'family', 'february', 'felt', 'football', 'friends', 'go', 'greatest', 'grew', 'heart', 'homework', 'let', 'made', 'named', 'nicknamed', 'older', 'pass', 'player', 'playing', 'poor', 'popular', 'president', 'racing', 'reagan', 'ronald', 'ronaldo', 'running', 'saved', 'school', 'score', 'serious', 'share', 'sisters', 'soccer', 'started', 'student', 'surgery', 'teacher', 'thought', 'throwing', 'training', 'turned', 'two', 'us', 'used', 'went', 'world', 'would']\n"
          ]
        },
        {
          "output_type": "stream",
          "name": "stderr",
          "text": [
            "/usr/local/lib/python3.7/dist-packages/sklearn/utils/deprecation.py:87: FutureWarning: Function get_feature_names is deprecated; get_feature_names is deprecated in 1.0 and will be removed in 1.2. Please use get_feature_names_out instead.\n",
            "  warnings.warn(msg, category=FutureWarning)\n"
          ]
        }
      ]
    },
    {
      "cell_type": "code",
      "source": [
        "#counter\n",
        "\n",
        "from collections import Counter"
      ],
      "metadata": {
        "id": "L1hEgNy4sw74"
      },
      "execution_count": null,
      "outputs": []
    },
    {
      "cell_type": "code",
      "source": [
        "Counter =Counter(stopwords)"
      ],
      "metadata": {
        "id": "AJL-Cr_ytLpY"
      },
      "execution_count": null,
      "outputs": []
    },
    {
      "cell_type": "code",
      "source": [
        "most_occur=Counter.most_common(10)"
      ],
      "metadata": {
        "id": "6bLKuPwYtWEi"
      },
      "execution_count": null,
      "outputs": []
    },
    {
      "cell_type": "code",
      "source": [
        "most_occur"
      ],
      "metadata": {
        "colab": {
          "base_uri": "https://localhost:8080/"
        },
        "id": "zY0QPKE-teT-",
        "outputId": "cd451f7f-a472-4b01-82c3-8ceb3fcf5ff3"
      },
      "execution_count": null,
      "outputs": [
        {
          "output_type": "execute_result",
          "data": {
            "text/plain": [
              "[('.', 10),\n",
              " ('ronaldo', 5),\n",
              " ('’', 4),\n",
              " ('soccer', 3),\n",
              " ('age', 3),\n",
              " (',', 2),\n",
              " ('older', 2),\n",
              " ('‘', 2),\n",
              " ('went', 2),\n",
              " ('born', 1)]"
            ]
          },
          "metadata": {},
          "execution_count": 144
        }
      ]
    },
    {
      "cell_type": "markdown",
      "source": [
        "NAMED ENTITY RECONGNITION (CHUNKING)"
      ],
      "metadata": {
        "id": "30Oc-Q45tmJT"
      }
    },
    {
      "cell_type": "code",
      "source": [
        "from nltk import ne_chunk"
      ],
      "metadata": {
        "id": "BbG8cJ2etipE"
      },
      "execution_count": null,
      "outputs": []
    },
    {
      "cell_type": "code",
      "source": [
        "tags=nltk.pos_tag(token)"
      ],
      "metadata": {
        "id": "Jed3d9LKuPUq"
      },
      "execution_count": null,
      "outputs": []
    },
    {
      "cell_type": "code",
      "source": [
        "nltk.download('maxent_ne_chunker')\n",
        "nltk.download('words')"
      ],
      "metadata": {
        "colab": {
          "base_uri": "https://localhost:8080/"
        },
        "id": "nVOAcM05uu_Y",
        "outputId": "64093eb8-7da6-47b4-d446-015fafd24de6"
      },
      "execution_count": null,
      "outputs": [
        {
          "output_type": "stream",
          "name": "stdout",
          "text": [
            "[nltk_data] Downloading package maxent_ne_chunker to\n",
            "[nltk_data]     /root/nltk_data...\n",
            "[nltk_data]   Unzipping chunkers/maxent_ne_chunker.zip.\n",
            "[nltk_data] Downloading package words to /root/nltk_data...\n",
            "[nltk_data]   Unzipping corpora/words.zip.\n"
          ]
        },
        {
          "output_type": "execute_result",
          "data": {
            "text/plain": [
              "True"
            ]
          },
          "metadata": {},
          "execution_count": 153
        }
      ]
    },
    {
      "cell_type": "code",
      "source": [
        "chunk=ne_chunk(tags)"
      ],
      "metadata": {
        "id": "X-T__COJvYcx"
      },
      "execution_count": null,
      "outputs": []
    },
    {
      "cell_type": "code",
      "source": [
        "print(chunk)"
      ],
      "metadata": {
        "id": "LYYqPOMqvaoH",
        "outputId": "3c3b3437-6540-4b1c-cc00-60162bf987b3",
        "colab": {
          "base_uri": "https://localhost:8080/"
        }
      },
      "execution_count": null,
      "outputs": [
        {
          "output_type": "stream",
          "name": "stdout",
          "text": [
            "(S\n",
            "  (PERSON Ronaldo/NNP)\n",
            "  was/VBD\n",
            "  born/VBN\n",
            "  on/IN\n",
            "  February/NNP\n",
            "  5/CD\n",
            "  ,/,\n",
            "  1985/CD\n",
            "  and/CC\n",
            "  was/VBD\n",
            "  named/VBN\n",
            "  (PERSON Ronaldo/NNP)\n",
            "  after/IN\n",
            "  the/DT\n",
            "  then/RB\n",
            "  (GPE US/NNP)\n",
            "  President/NNP\n",
            "  (PERSON Ronald/NNP Reagan/NNP)\n",
            "  ./.\n",
            "  He/PRP\n",
            "  grew/VBD\n",
            "  up/RP\n",
            "  in/IN\n",
            "  a/DT\n",
            "  poor/JJ\n",
            "  family/NN\n",
            "  and/CC\n",
            "  had/VBD\n",
            "  to/TO\n",
            "  share/NN\n",
            "  a/DT\n",
            "  bedroom/NN\n",
            "  and/CC\n",
            "  bathroom/NN\n",
            "  with/IN\n",
            "  his/PRP$\n",
            "  older/JJR\n",
            "  brother/NN\n",
            "  and/CC\n",
            "  two/CD\n",
            "  older/JJR\n",
            "  sisters/NNS\n",
            "  ./.\n",
            "  He/PRP\n",
            "  started/VBD\n",
            "  playing/VBG\n",
            "  soccer/NN\n",
            "  at/IN\n",
            "  an/DT\n",
            "  early/JJ\n",
            "  age/NN\n",
            "  when/WRB\n",
            "  he/PRP\n",
            "  was/VBD\n",
            "  just/RB\n",
            "  eight/CD\n",
            "  ./.\n",
            "  He/PRP\n",
            "  was/VBD\n",
            "  always/RB\n",
            "  running/VBG\n",
            "  away/RB\n",
            "  from/IN\n",
            "  doing/VBG\n",
            "  homework/NN\n",
            "  ./.\n",
            "  He/PRP\n",
            "  was/VBD\n",
            "  nicknamed/VBN\n",
            "  ‘/JJ\n",
            "  cry/NN\n",
            "  baby/NN\n",
            "  ’/NN\n",
            "  because/IN\n",
            "  he/PRP\n",
            "  felt/VBD\n",
            "  bad/JJ\n",
            "  when/WRB\n",
            "  he/PRP\n",
            "  used/VBD\n",
            "  to/TO\n",
            "  pass/VB\n",
            "  the/DT\n",
            "  ball/NN\n",
            "  to/TO\n",
            "  his/PRP$\n",
            "  friends/NNS\n",
            "  and/CC\n",
            "  they/PRP\n",
            "  couldn/VBP\n",
            "  ’/JJ\n",
            "  t/NN\n",
            "  score/NN\n",
            "  ./.\n",
            "  A/DT\n",
            "  very/RB\n",
            "  popular/JJ\n",
            "  student/NN\n",
            "  in/IN\n",
            "  school/NN\n",
            "  ,/,\n",
            "  (PERSON Ronaldo/NNP)\n",
            "  was/VBD\n",
            "  expelled/VBN\n",
            "  at/IN\n",
            "  the/DT\n",
            "  age/NN\n",
            "  of/IN\n",
            "  14/CD\n",
            "  for/IN\n",
            "  throwing/VBG\n",
            "  a/DT\n",
            "  chair/NN\n",
            "  at/IN\n",
            "  his/PRP$\n",
            "  teacher/NN\n",
            "  who/WP\n",
            "  (PERSON Ronaldo/NNP)\n",
            "  thought/VBD\n",
            "  disrespected/VBD\n",
            "  him/PRP\n",
            "  ./.\n",
            "  He/PRP\n",
            "  then/RB\n",
            "  turned/VBD\n",
            "  his/PRP$\n",
            "  entire/JJ\n",
            "  attention/NN\n",
            "  to/TO\n",
            "  soccer/NN\n",
            "  and/CC\n",
            "  went/VBD\n",
            "  on/IN\n",
            "  to/TO\n",
            "  become/VB\n",
            "  the/DT\n",
            "  world/NN\n",
            "  ’/NNP\n",
            "  s/NN\n",
            "  greatest/JJS\n",
            "  soccer/NN\n",
            "  player/NN\n",
            "  ./.\n",
            "  But/CC\n",
            "  at/IN\n",
            "  the/DT\n",
            "  age/NN\n",
            "  of/IN\n",
            "  15/CD\n",
            "  (PERSON Ronaldo/NNP)\n",
            "  was/VBD\n",
            "  diagnosed/VBN\n",
            "  with/IN\n",
            "  ‘/NNP\n",
            "  racing/VBG\n",
            "  heart/NN\n",
            "  ’/NN\n",
            "  ./.\n",
            "  His/PRP$\n",
            "  condition/NN\n",
            "  was/VBD\n",
            "  serious/JJ\n",
            "  and/CC\n",
            "  would/MD\n",
            "  have/VB\n",
            "  made/VBN\n",
            "  him/PRP\n",
            "  let/VB\n",
            "  go/VB\n",
            "  of/IN\n",
            "  football/NN\n",
            "  ./.\n",
            "  But/CC\n",
            "  a/DT\n",
            "  surgery/NN\n",
            "  saved/VBD\n",
            "  him/PRP\n",
            "  and/CC\n",
            "  he/PRP\n",
            "  went/VBD\n",
            "  back/RB\n",
            "  for/IN\n",
            "  his/PRP$\n",
            "  training/NN\n",
            "  ./.)\n"
          ]
        }
      ]
    },
    {
      "cell_type": "code",
      "source": [
        ""
      ],
      "metadata": {
        "id": "kM7bbTbzvc8t"
      },
      "execution_count": null,
      "outputs": []
    }
  ]
}